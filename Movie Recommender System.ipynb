{
 "cells": [
  {
   "cell_type": "code",
   "execution_count": 1,
   "id": "02120951",
   "metadata": {},
   "outputs": [
    {
     "name": "stdout",
     "output_type": "stream",
     "text": [
      "Ratings Data:\n",
      "   user_id  movie_id  rating  timestamp\n",
      "0      196       242       3  881250949\n",
      "1      186       302       3  891717742\n",
      "2       22       377       1  878887116\n",
      "3      244        51       2  880606923\n",
      "4      166       346       1  886397596\n",
      "\n",
      "Movie Information:\n",
      "                                                                                                                    movie_id  \\\n",
      "1 Toy Story (1995)  01-Jan-1995 NaN http://us.imdb.com/M/title-exact?Toy%20Story%20... 0 0 0 1 1 1 0 0 0 0 0 0 0 0         0   \n",
      "2 GoldenEye (1995)  01-Jan-1995 NaN http://us.imdb.com/M/title-exact?GoldenEye%20(1... 0 1 1 0 0 0 0 0 0 0 0 0 0 0         0   \n",
      "3 Four Rooms (1995) 01-Jan-1995 NaN http://us.imdb.com/M/title-exact?Four%20Rooms%2... 0 0 0 0 0 0 0 0 0 0 0 0 0 0         0   \n",
      "4 Get Shorty (1995) 01-Jan-1995 NaN http://us.imdb.com/M/title-exact?Get%20Shorty%2... 0 1 0 0 0 1 0 0 1 0 0 0 0 0         0   \n",
      "5 Copycat (1995)    01-Jan-1995 NaN http://us.imdb.com/M/title-exact?Copycat%20(1995)  0 0 0 0 0 0 1 0 1 0 0 0 0 0         0   \n",
      "\n",
      "                                                                                                                    title  \\\n",
      "1 Toy Story (1995)  01-Jan-1995 NaN http://us.imdb.com/M/title-exact?Toy%20Story%20... 0 0 0 1 1 1 0 0 0 0 0 0 0 0      0   \n",
      "2 GoldenEye (1995)  01-Jan-1995 NaN http://us.imdb.com/M/title-exact?GoldenEye%20(1... 0 1 1 0 0 0 0 0 0 0 0 0 0 0      0   \n",
      "3 Four Rooms (1995) 01-Jan-1995 NaN http://us.imdb.com/M/title-exact?Four%20Rooms%2... 0 0 0 0 0 0 0 0 0 0 0 0 0 0      0   \n",
      "4 Get Shorty (1995) 01-Jan-1995 NaN http://us.imdb.com/M/title-exact?Get%20Shorty%2... 0 1 0 0 0 1 0 0 1 0 0 0 0 0      0   \n",
      "5 Copycat (1995)    01-Jan-1995 NaN http://us.imdb.com/M/title-exact?Copycat%20(1995)  0 0 0 0 0 0 1 0 1 0 0 0 0 0      0   \n",
      "\n",
      "                                                                                                                    release_date  \\\n",
      "1 Toy Story (1995)  01-Jan-1995 NaN http://us.imdb.com/M/title-exact?Toy%20Story%20... 0 0 0 1 1 1 0 0 0 0 0 0 0 0             0   \n",
      "2 GoldenEye (1995)  01-Jan-1995 NaN http://us.imdb.com/M/title-exact?GoldenEye%20(1... 0 1 1 0 0 0 0 0 0 0 0 0 0 0             1   \n",
      "3 Four Rooms (1995) 01-Jan-1995 NaN http://us.imdb.com/M/title-exact?Four%20Rooms%2... 0 0 0 0 0 0 0 0 0 0 0 0 0 0             1   \n",
      "4 Get Shorty (1995) 01-Jan-1995 NaN http://us.imdb.com/M/title-exact?Get%20Shorty%2... 0 1 0 0 0 1 0 0 1 0 0 0 0 0             0   \n",
      "5 Copycat (1995)    01-Jan-1995 NaN http://us.imdb.com/M/title-exact?Copycat%20(1995)  0 0 0 0 0 0 1 0 1 0 0 0 0 0             1   \n",
      "\n",
      "                                                                                                                    video_release_date  \\\n",
      "1 Toy Story (1995)  01-Jan-1995 NaN http://us.imdb.com/M/title-exact?Toy%20Story%20... 0 0 0 1 1 1 0 0 0 0 0 0 0 0                   0   \n",
      "2 GoldenEye (1995)  01-Jan-1995 NaN http://us.imdb.com/M/title-exact?GoldenEye%20(1... 0 1 1 0 0 0 0 0 0 0 0 0 0 0                   0   \n",
      "3 Four Rooms (1995) 01-Jan-1995 NaN http://us.imdb.com/M/title-exact?Four%20Rooms%2... 0 0 0 0 0 0 0 0 0 0 0 0 0 0                   0   \n",
      "4 Get Shorty (1995) 01-Jan-1995 NaN http://us.imdb.com/M/title-exact?Get%20Shorty%2... 0 1 0 0 0 1 0 0 1 0 0 0 0 0                   0   \n",
      "5 Copycat (1995)    01-Jan-1995 NaN http://us.imdb.com/M/title-exact?Copycat%20(1995)  0 0 0 0 0 0 1 0 1 0 0 0 0 0                   0   \n",
      "\n",
      "                                                                                                                    imdb_url  \n",
      "1 Toy Story (1995)  01-Jan-1995 NaN http://us.imdb.com/M/title-exact?Toy%20Story%20... 0 0 0 1 1 1 0 0 0 0 0 0 0 0         0  \n",
      "2 GoldenEye (1995)  01-Jan-1995 NaN http://us.imdb.com/M/title-exact?GoldenEye%20(1... 0 1 1 0 0 0 0 0 0 0 0 0 0 0         0  \n",
      "3 Four Rooms (1995) 01-Jan-1995 NaN http://us.imdb.com/M/title-exact?Four%20Rooms%2... 0 0 0 0 0 0 0 0 0 0 0 0 0 0         0  \n",
      "4 Get Shorty (1995) 01-Jan-1995 NaN http://us.imdb.com/M/title-exact?Get%20Shorty%2... 0 1 0 0 0 1 0 0 1 0 0 0 0 0         0  \n",
      "5 Copycat (1995)    01-Jan-1995 NaN http://us.imdb.com/M/title-exact?Copycat%20(1995)  0 0 0 0 0 0 1 0 1 0 0 0 0 0         0  \n"
     ]
    }
   ],
   "source": [
    "import pandas as pd\n",
    "\n",
    "# Load ratings data\n",
    "columns = ['user_id', 'movie_id', 'rating', 'timestamp']\n",
    "ratings_df = pd.read_csv('u.data', sep='\\t', names=columns)\n",
    "\n",
    "# Load movie information\n",
    "movie_info_columns = ['movie_id', 'title', 'release_date', 'video_release_date', 'imdb_url']\n",
    "movies_df = pd.read_csv('u.item', sep='|', encoding='latin-1', names=movie_info_columns)\n",
    "\n",
    "# Display the first few rows of each dataframe to inspect the data\n",
    "print(\"Ratings Data:\")\n",
    "print(ratings_df.head())\n",
    "\n",
    "print(\"\\nMovie Information:\")\n",
    "print(movies_df.head())"
   ]
  },
  {
   "cell_type": "code",
   "execution_count": 2,
   "id": "b97e58f5",
   "metadata": {},
   "outputs": [
    {
     "name": "stdout",
     "output_type": "stream",
     "text": [
      "Missing Values in Ratings Data:\n",
      "user_id      0\n",
      "movie_id     0\n",
      "rating       0\n",
      "timestamp    0\n",
      "dtype: int64\n",
      "\n",
      "Missing Values in Movie Information:\n",
      "movie_id              0\n",
      "title                 0\n",
      "release_date          0\n",
      "video_release_date    0\n",
      "imdb_url              0\n",
      "dtype: int64\n"
     ]
    }
   ],
   "source": [
    "# Check for missing values in ratings dataframe\n",
    "print(\"Missing Values in Ratings Data:\")\n",
    "print(ratings_df.isnull().sum())\n",
    "\n",
    "# Check for missing values in movies dataframe\n",
    "print(\"\\nMissing Values in Movie Information:\")\n",
    "print(movies_df.isnull().sum())"
   ]
  },
  {
   "cell_type": "code",
   "execution_count": 3,
   "id": "1eaec952",
   "metadata": {},
   "outputs": [
    {
     "name": "stdout",
     "output_type": "stream",
     "text": [
      "\n",
      "Merged Dataframe:\n",
      "   user_id  movie_id  rating  timestamp  title  release_date  \\\n",
      "0      308         1       4  887736532      0             0   \n",
      "1      308         1       4  887736532      0             0   \n",
      "2      308         1       4  887736532      0             0   \n",
      "3      308         1       4  887736532      0             1   \n",
      "4      308         1       4  887736532      0             0   \n",
      "\n",
      "   video_release_date  imdb_url  \n",
      "0                   0         0  \n",
      "1                   0         0  \n",
      "2                   0         0  \n",
      "3                   0         0  \n",
      "4                   0         0  \n"
     ]
    }
   ],
   "source": [
    "# Merge ratings and movie information dataframes on 'movie_id'\n",
    "merged_df = pd.merge(ratings_df, movies_df, on='movie_id')\n",
    "\n",
    "# Display the merged dataframe\n",
    "print(\"\\nMerged Dataframe:\")\n",
    "print(merged_df.head())"
   ]
  },
  {
   "cell_type": "code",
   "execution_count": 4,
   "id": "cabad418",
   "metadata": {},
   "outputs": [
    {
     "name": "stdout",
     "output_type": "stream",
     "text": [
      "User-Item Interaction Matrix:\n",
      "movie_id  1     2     3     4     5     6     7     8     9     10    ...  \\\n",
      "user_id                                                               ...   \n",
      "1          5.0   3.0   4.0   3.0   3.0   5.0   4.0   1.0   5.0   3.0  ...   \n",
      "2          4.0   0.0   0.0   0.0   0.0   0.0   0.0   0.0   0.0   2.0  ...   \n",
      "3          0.0   0.0   0.0   0.0   0.0   0.0   0.0   0.0   0.0   0.0  ...   \n",
      "4          0.0   0.0   0.0   0.0   0.0   0.0   0.0   0.0   0.0   0.0  ...   \n",
      "5          4.0   3.0   0.0   0.0   0.0   0.0   0.0   0.0   0.0   0.0  ...   \n",
      "\n",
      "movie_id  1673  1674  1675  1676  1677  1678  1679  1680  1681  1682  \n",
      "user_id                                                               \n",
      "1          0.0   0.0   0.0   0.0   0.0   0.0   0.0   0.0   0.0   0.0  \n",
      "2          0.0   0.0   0.0   0.0   0.0   0.0   0.0   0.0   0.0   0.0  \n",
      "3          0.0   0.0   0.0   0.0   0.0   0.0   0.0   0.0   0.0   0.0  \n",
      "4          0.0   0.0   0.0   0.0   0.0   0.0   0.0   0.0   0.0   0.0  \n",
      "5          0.0   0.0   0.0   0.0   0.0   0.0   0.0   0.0   0.0   0.0  \n",
      "\n",
      "[5 rows x 1682 columns]\n",
      "\n",
      "User Similarity Matrix:\n",
      "user_id       1         2         3         4         5         6         7    \\\n",
      "user_id                                                                         \n",
      "1        1.000000  0.166931  0.047460  0.064358  0.378475  0.430239  0.440367   \n",
      "2        0.166931  1.000000  0.110591  0.178121  0.072979  0.245843  0.107328   \n",
      "3        0.047460  0.110591  1.000000  0.344151  0.021245  0.072415  0.066137   \n",
      "4        0.064358  0.178121  0.344151  1.000000  0.031804  0.068044  0.091230   \n",
      "5        0.378475  0.072979  0.021245  0.031804  1.000000  0.237286  0.373600   \n",
      "\n",
      "user_id       8         9         10   ...       934       935       936  \\\n",
      "user_id                                ...                                 \n",
      "1        0.319072  0.078138  0.376544  ...  0.369527  0.119482  0.274876   \n",
      "2        0.103344  0.161048  0.159862  ...  0.156986  0.307942  0.358789   \n",
      "3        0.083060  0.061040  0.065151  ...  0.031875  0.042753  0.163829   \n",
      "4        0.188060  0.101284  0.060859  ...  0.052107  0.036784  0.133115   \n",
      "5        0.248930  0.056847  0.201427  ...  0.338794  0.080580  0.094924   \n",
      "\n",
      "user_id       937       938       939       940       941       942       943  \n",
      "user_id                                                                        \n",
      "1        0.189705  0.197326  0.118095  0.314072  0.148617  0.179508  0.398175  \n",
      "2        0.424046  0.319889  0.228583  0.226790  0.161485  0.172268  0.105798  \n",
      "3        0.069038  0.124245  0.026271  0.161890  0.101243  0.133416  0.026556  \n",
      "4        0.193471  0.146058  0.030138  0.196858  0.152041  0.170086  0.058752  \n",
      "5        0.079779  0.148607  0.071459  0.239955  0.139595  0.152497  0.313941  \n",
      "\n",
      "[5 rows x 943 columns]\n"
     ]
    }
   ],
   "source": [
    "# Create user-item interaction matrix\n",
    "user_movie_ratings = ratings_df.pivot_table(index='user_id', columns='movie_id', values='rating')\n",
    "\n",
    "# Fill missing values with 0 (since missing values indicate no rating)\n",
    "user_movie_ratings = user_movie_ratings.fillna(0)\n",
    "\n",
    "# Display the user-item interaction matrix\n",
    "print(\"User-Item Interaction Matrix:\")\n",
    "print(user_movie_ratings.head())\n",
    "\n",
    "# Import necessary library for collaborative filtering\n",
    "from sklearn.metrics.pairwise import cosine_similarity\n",
    "\n",
    "# Calculate similarity between users\n",
    "user_similarity = cosine_similarity(user_movie_ratings)\n",
    "\n",
    "# Display the user similarity matrix\n",
    "print(\"\\nUser Similarity Matrix:\")\n",
    "print(pd.DataFrame(user_similarity, index=user_movie_ratings.index, columns=user_movie_ratings.index).head())"
   ]
  },
  {
   "cell_type": "code",
   "execution_count": 5,
   "id": "1eef53c3",
   "metadata": {},
   "outputs": [
    {
     "name": "stdout",
     "output_type": "stream",
     "text": [
      "Top 5 Movie Recommendations for User 1:\n",
      "movie_id\n",
      "1682     49\n",
      "1681     99\n",
      "1680    257\n",
      "1679    285\n",
      "1678    180\n",
      "Name: 1, dtype: int64\n"
     ]
    }
   ],
   "source": [
    "def get_movie_recommendations(user_id, num_recommendations=5):\n",
    "    # Get the user's ratings\n",
    "    user_ratings = user_movie_ratings.loc[user_id]\n",
    "\n",
    "    # Calculate the weighted average of ratings using user similarity\n",
    "    weighted_ratings = user_similarity[user_id].dot(user_movie_ratings)\n",
    "\n",
    "    # Exclude movies already rated by the user\n",
    "    recommended_movies = weighted_ratings - user_ratings\n",
    "\n",
    "    # Get top recommended movies\n",
    "    top_movies = recommended_movies.argsort()[-num_recommendations:][::-1]\n",
    "\n",
    "    return top_movies\n",
    "\n",
    "# Example usage: Get top 5 movie recommendations for user 1\n",
    "user_id = 1\n",
    "recommendations = get_movie_recommendations(user_id, num_recommendations=5)\n",
    "\n",
    "# Display recommended movie IDs\n",
    "print(f\"Top 5 Movie Recommendations for User {user_id}:\")\n",
    "print(recommendations)"
   ]
  },
  {
   "cell_type": "code",
   "execution_count": 6,
   "id": "96baed24",
   "metadata": {},
   "outputs": [
    {
     "name": "stdout",
     "output_type": "stream",
     "text": [
      "Recommended Movies:\n",
      "Series([], Name: title, dtype: int64)\n"
     ]
    }
   ],
   "source": [
    "# Get the titles of the recommended movies\n",
    "recommended_movie_ids = recommendations.index.tolist()\n",
    "recommended_movie_titles = movies_df[movies_df['movie_id'].isin(recommended_movie_ids)]['title']\n",
    "\n",
    "# Display the recommended movie titles\n",
    "print(\"Recommended Movies:\")\n",
    "print(recommended_movie_titles)"
   ]
  },
  {
   "cell_type": "code",
   "execution_count": 7,
   "id": "c07e601a",
   "metadata": {},
   "outputs": [
    {
     "name": "stdout",
     "output_type": "stream",
     "text": [
      "Recommended Movie IDs: movie_id\n",
      "1682     49\n",
      "1681     99\n",
      "1680    257\n",
      "1679    285\n",
      "1678    180\n",
      "Name: 1, dtype: int64\n",
      "\n",
      "Recommended Movies:\n",
      "Series([], Name: title, dtype: int64)\n"
     ]
    }
   ],
   "source": [
    "# Display the recommended movie IDs\n",
    "print(f\"Recommended Movie IDs: {recommendations}\")\n",
    "\n",
    "# Get the titles of the recommended movies\n",
    "recommended_movie_ids = recommendations.index.tolist()\n",
    "recommended_movie_titles = movies_df[movies_df['movie_id'].isin(recommended_movie_ids)]['title']\n",
    "\n",
    "# Display the recommended movie titles\n",
    "print(\"\\nRecommended Movies:\")\n",
    "print(recommended_movie_titles)"
   ]
  },
  {
   "cell_type": "code",
   "execution_count": 8,
   "id": "3c33fb8a",
   "metadata": {},
   "outputs": [
    {
     "name": "stdout",
     "output_type": "stream",
     "text": [
      "\n",
      "Recommended Movies:\n",
      "Series([], )\n"
     ]
    }
   ],
   "source": [
    "# Get the titles of the recommended movies\n",
    "recommended_movie_titles = movies_df[movies_df['movie_id'].isin(recommended_movie_ids)]['title']\n",
    "\n",
    "# Display the recommended movie titles\n",
    "print(\"\\nRecommended Movies:\")\n",
    "print(recommended_movie_titles.to_string(index=False))\n"
   ]
  },
  {
   "cell_type": "code",
   "execution_count": 9,
   "id": "5ef2b099",
   "metadata": {},
   "outputs": [
    {
     "name": "stdout",
     "output_type": "stream",
     "text": [
      "Empty DataFrame\n",
      "Columns: [movie_id, title]\n",
      "Index: []\n"
     ]
    }
   ],
   "source": [
    "# Display the movie titles for the recommended movie IDs\n",
    "recommended_movies = movies_df[movies_df['movie_id'].isin(recommendations.index)]\n",
    "print(recommended_movies[['movie_id', 'title']])"
   ]
  },
  {
   "cell_type": "code",
   "execution_count": 10,
   "id": "2265cbee",
   "metadata": {},
   "outputs": [
    {
     "name": "stdout",
     "output_type": "stream",
     "text": [
      "\n",
      "Recommended Movies:\n"
     ]
    }
   ],
   "source": [
    "# Get the titles of the recommended movies\n",
    "recommended_movie_titles = movies_df[movies_df['movie_id'].isin(recommended_movie_ids)]['title']\n",
    "\n",
    "# Display the recommended movie titles\n",
    "recommended_movie_titles = recommended_movie_titles.tolist()\n",
    "print(\"\\nRecommended Movies:\")\n",
    "for title in recommended_movie_titles:\n",
    "    print(title)"
   ]
  },
  {
   "cell_type": "code",
   "execution_count": null,
   "id": "f9806bfc",
   "metadata": {},
   "outputs": [],
   "source": []
  }
 ],
 "metadata": {
  "kernelspec": {
   "display_name": "Python 3 (ipykernel)",
   "language": "python",
   "name": "python3"
  },
  "language_info": {
   "codemirror_mode": {
    "name": "ipython",
    "version": 3
   },
   "file_extension": ".py",
   "mimetype": "text/x-python",
   "name": "python",
   "nbconvert_exporter": "python",
   "pygments_lexer": "ipython3",
   "version": "3.11.4"
  }
 },
 "nbformat": 4,
 "nbformat_minor": 5
}
